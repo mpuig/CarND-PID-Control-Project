{
 "cells": [
  {
   "cell_type": "code",
   "execution_count": 1,
   "metadata": {
    "collapsed": true
   },
   "outputs": [],
   "source": [
    "import re\n",
    "from subprocess import check_output"
   ]
  },
  {
   "cell_type": "code",
   "execution_count": 2,
   "metadata": {
    "collapsed": true
   },
   "outputs": [],
   "source": [
    "def run(p, iterations=150):\n",
    "    out = check_output([\"build/pid\", str(p[0]), str(p[1]), str(p[2]), str(iterations)])\n",
    "    out = out.decode().replace(\"4567\", \"\")\n",
    "    numbers = re.findall(r\"[-+]?\\d*\\.\\d+|\\d+\", out)\n",
    "    return float(numbers[0])"
   ]
  },
  {
   "cell_type": "code",
   "execution_count": 5,
   "metadata": {
    "collapsed": true
   },
   "outputs": [],
   "source": [
    "def twiddle(tol=0.02, iterations=150):\n",
    "    p = [0, 0, 0]\n",
    "    dp = [1, 1, 1]\n",
    "    best_err = run(p, iterations)\n",
    "    best_p = p\n",
    "    \n",
    "    it = 0\n",
    "    while sum(dp) > tol:\n",
    "        print(\"Iteration {}, best_error={}, p=[{:.2f} {:.2f} {:.2f}], dp=[{:.2f} {:.2f} {:.2f}]\".format(\n",
    "                it, best_err, \n",
    "                p[0], p[1], p[2], \n",
    "                dp[0], dp[1], dp[2]))\n",
    "        for i in range(len(p)):\n",
    "            p[i] += dp[i]\n",
    "            err = run(p, iterations)\n",
    "\n",
    "            if err < best_err:\n",
    "                best_err = err\n",
    "                best_p = p\n",
    "                dp[i] *= 1.1\n",
    "            else:\n",
    "                p[i] -= 2 * dp[i]\n",
    "                err = run(p, iterations)\n",
    "\n",
    "                if err < best_err:\n",
    "                    best_err = err\n",
    "                    best_p = p\n",
    "                    dp[i] *= 1.1\n",
    "                else:\n",
    "                    p[i] += dp[i]\n",
    "                    dp[i] *= 0.9\n",
    "        it += 1\n",
    "    return p"
   ]
  },
  {
   "cell_type": "code",
   "execution_count": null,
   "metadata": {
    "collapsed": false
   },
   "outputs": [
    {
     "name": "stdout",
     "output_type": "stream",
     "text": [
      "Iteration 0, best_error=184.817, p=[0.00 0.00 0.00], dp=[1.00 1.00 1.00]\n",
      "Iteration 1, best_error=5.1225, p=[1.00 -1.00 0.00], dp=[1.10 1.10 0.90]\n",
      "Iteration 2, best_error=5.1225, p=[1.00 -1.00 0.00], dp=[0.99 0.99 0.81]\n",
      "Iteration 3, best_error=5.1225, p=[1.00 -1.00 0.00], dp=[0.89 0.89 0.73]\n",
      "Iteration 4, best_error=5.1225, p=[1.00 -1.00 0.00], dp=[0.80 0.80 0.66]\n",
      "Iteration 5, best_error=5.1225, p=[1.00 -1.00 0.00], dp=[0.72 0.72 0.59]\n",
      "Iteration 6, best_error=5.1225, p=[1.00 -1.00 0.00], dp=[0.65 0.65 0.53]\n",
      "Iteration 7, best_error=5.1225, p=[1.00 -1.00 0.00], dp=[0.58 0.58 0.48]\n",
      "Iteration 8, best_error=5.1225, p=[1.00 -1.00 0.00], dp=[0.53 0.53 0.43]\n"
     ]
    }
   ],
   "source": [
    "twiddle(tol=0.05, iterations=1000)"
   ]
  },
  {
   "cell_type": "code",
   "execution_count": null,
   "metadata": {
    "collapsed": true
   },
   "outputs": [],
   "source": []
  }
 ],
 "metadata": {
  "kernelspec": {
   "display_name": "Python 2",
   "language": "python",
   "name": "python2"
  },
  "language_info": {
   "codemirror_mode": {
    "name": "ipython",
    "version": 2
   },
   "file_extension": ".py",
   "mimetype": "text/x-python",
   "name": "python",
   "nbconvert_exporter": "python",
   "pygments_lexer": "ipython2",
   "version": "2.7.12"
  }
 },
 "nbformat": 4,
 "nbformat_minor": 0
}
