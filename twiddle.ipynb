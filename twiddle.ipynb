{
 "cells": [
  {
   "cell_type": "code",
   "execution_count": 6,
   "metadata": {
    "collapsed": true
   },
   "outputs": [],
   "source": [
    "import re\n",
    "from subprocess import check_output\n",
    "\n",
    "def run(p, steps=150):\n",
    "    out = check_output([\"build/pid\", str(p[0]), str(p[1]), str(p[2]), str(steps)])\n",
    "    out = out.decode().replace(\"4567\", \"\")\n",
    "    numbers = re.findall(r\"[-+]?\\d*\\.\\d+|\\d+\", out)\n",
    "    return float(numbers[0])\n",
    "\n",
    "def twiddle(tol=0.02, steps=150):\n",
    "    p = [0, 0, 0]\n",
    "    dp = [1, 1, 1]\n",
    "    best_err = run(p, steps)\n",
    "    \n",
    "    it = 0\n",
    "    while sum(dp) > tol:\n",
    "        print(\"Iteration {}, best_error={}, p=[{:.2f} {:.2f} {:.2f}], dp=[{:.2f} {:.2f} {:.2f}]\".format(\n",
    "                it, best_err, \n",
    "                p[0], p[1], p[2], \n",
    "                dp[0], dp[1], dp[2]))\n",
    "\n",
    "        for i in range(len(p)):\n",
    "            p[i] += dp[i]\n",
    "            err = run(p, steps)\n",
    "\n",
    "            if err < best_err:\n",
    "                best_err = err\n",
    "                dp[i] *= 1.1\n",
    "            else:\n",
    "                p[i] -= 2 * dp[i]\n",
    "                err = run(p, steps)\n",
    "                \n",
    "                if err < best_err:\n",
    "                    best_err = err\n",
    "                    dp[i] *= 1.1\n",
    "                else:\n",
    "                    p[i] += dp[i]\n",
    "                    dp[i] *= 0.9\n",
    "        it += 1\n",
    "    return p"
   ]
  },
  {
   "cell_type": "code",
   "execution_count": null,
   "metadata": {
    "collapsed": false
   },
   "outputs": [
    {
     "name": "stdout",
     "output_type": "stream",
     "text": [
      "Iteration 0, best_error=9617.36, p=[0.00 0.00 0.00], dp=[1.00 1.00 1.00]\n",
      "Iteration 1, best_error=9606.1473, p=[0.00 0.00 -1.00], dp=[0.90 0.90 1.10]\n",
      "Iteration 2, best_error=9606.1473, p=[0.00 0.00 -1.00], dp=[0.81 0.81 0.99]\n",
      "Iteration 3, best_error=9606.1473, p=[0.00 0.00 -1.00], dp=[0.73 0.73 0.89]\n",
      "Iteration 4, best_error=9606.1473, p=[0.00 0.00 -1.00], dp=[0.66 0.66 0.80]\n"
     ]
    }
   ],
   "source": [
    "twiddle(tol=0.001, steps=2000)"
   ]
  },
  {
   "cell_type": "code",
   "execution_count": null,
   "metadata": {
    "collapsed": true
   },
   "outputs": [],
   "source": []
  }
 ],
 "metadata": {
  "kernelspec": {
   "display_name": "Python 2",
   "language": "python",
   "name": "python2"
  },
  "language_info": {
   "codemirror_mode": {
    "name": "ipython",
    "version": 2
   },
   "file_extension": ".py",
   "mimetype": "text/x-python",
   "name": "python",
   "nbconvert_exporter": "python",
   "pygments_lexer": "ipython2",
   "version": "2.7.12"
  }
 },
 "nbformat": 4,
 "nbformat_minor": 0
}
